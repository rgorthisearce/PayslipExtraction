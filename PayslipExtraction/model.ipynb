{
  "nbformat": 4,
  "nbformat_minor": 0,
  "metadata": {
    "colab": {
      "name": "CustomNERWithSpacyV3_model.ipynb",
      "provenance": []
    },
    "kernelspec": {
      "name": "python3",
      "display_name": "Python 3"
    },
    "language_info": {
      "name": "python"
    }
  },
  "cells": [
    {
      "cell_type": "code",
      "execution_count": 1,
      "metadata": {
        "colab": {
          "base_uri": "https://localhost:8080/",
          "height": 992
        },
        "id": "Hc4Oexni18o1",
        "outputId": "f4144ec3-cb8e-4887-da40-84b4315f570a"
      },
      "outputs": [
        {
          "output_type": "stream",
          "name": "stdout",
          "text": [
            "Reading package lists... Done\n",
            "Building dependency tree       \n",
            "Reading state information... Done\n",
            "The following additional packages will be installed:\n",
            "  tesseract-ocr-eng tesseract-ocr-osd\n",
            "The following NEW packages will be installed:\n",
            "  tesseract-ocr tesseract-ocr-eng tesseract-ocr-osd\n",
            "0 upgraded, 3 newly installed, 0 to remove and 39 not upgraded.\n",
            "Need to get 4,795 kB of archives.\n",
            "After this operation, 15.8 MB of additional disk space will be used.\n",
            "Get:1 http://archive.ubuntu.com/ubuntu bionic/universe amd64 tesseract-ocr-eng all 4.00~git24-0e00fe6-1.2 [1,588 kB]\n",
            "Get:2 http://archive.ubuntu.com/ubuntu bionic/universe amd64 tesseract-ocr-osd all 4.00~git24-0e00fe6-1.2 [2,989 kB]\n",
            "Get:3 http://archive.ubuntu.com/ubuntu bionic/universe amd64 tesseract-ocr amd64 4.00~git2288-10f4998a-2 [218 kB]\n",
            "Fetched 4,795 kB in 0s (11.7 MB/s)\n",
            "debconf: unable to initialize frontend: Dialog\n",
            "debconf: (No usable dialog-like program is installed, so the dialog based frontend cannot be used. at /usr/share/perl5/Debconf/FrontEnd/Dialog.pm line 76, <> line 3.)\n",
            "debconf: falling back to frontend: Readline\n",
            "debconf: unable to initialize frontend: Readline\n",
            "debconf: (This frontend requires a controlling tty.)\n",
            "debconf: falling back to frontend: Teletype\n",
            "dpkg-preconfigure: unable to re-open stdin: \n",
            "Selecting previously unselected package tesseract-ocr-eng.\n",
            "(Reading database ... 156210 files and directories currently installed.)\n",
            "Preparing to unpack .../tesseract-ocr-eng_4.00~git24-0e00fe6-1.2_all.deb ...\n",
            "Unpacking tesseract-ocr-eng (4.00~git24-0e00fe6-1.2) ...\n",
            "Selecting previously unselected package tesseract-ocr-osd.\n",
            "Preparing to unpack .../tesseract-ocr-osd_4.00~git24-0e00fe6-1.2_all.deb ...\n",
            "Unpacking tesseract-ocr-osd (4.00~git24-0e00fe6-1.2) ...\n",
            "Selecting previously unselected package tesseract-ocr.\n",
            "Preparing to unpack .../tesseract-ocr_4.00~git2288-10f4998a-2_amd64.deb ...\n",
            "Unpacking tesseract-ocr (4.00~git2288-10f4998a-2) ...\n",
            "Setting up tesseract-ocr-osd (4.00~git24-0e00fe6-1.2) ...\n",
            "Setting up tesseract-ocr-eng (4.00~git24-0e00fe6-1.2) ...\n",
            "Setting up tesseract-ocr (4.00~git2288-10f4998a-2) ...\n",
            "Processing triggers for man-db (2.8.3-2ubuntu0.1) ...\n",
            "Collecting pytesseract\n",
            "  Downloading pytesseract-0.3.9-py2.py3-none-any.whl (14 kB)\n",
            "Requirement already satisfied: packaging>=21.3 in /usr/local/lib/python3.7/dist-packages (from pytesseract) (21.3)\n",
            "Collecting Pillow>=8.0.0\n",
            "  Downloading Pillow-9.0.1-cp37-cp37m-manylinux_2_17_x86_64.manylinux2014_x86_64.whl (4.3 MB)\n",
            "\u001b[K     |████████████████████████████████| 4.3 MB 5.1 MB/s \n",
            "\u001b[?25hRequirement already satisfied: pyparsing!=3.0.5,>=2.0.2 in /usr/local/lib/python3.7/dist-packages (from packaging>=21.3->pytesseract) (3.0.7)\n",
            "Installing collected packages: Pillow, pytesseract\n",
            "  Attempting uninstall: Pillow\n",
            "    Found existing installation: Pillow 7.1.2\n",
            "    Uninstalling Pillow-7.1.2:\n",
            "      Successfully uninstalled Pillow-7.1.2\n",
            "\u001b[31mERROR: pip's dependency resolver does not currently take into account all the packages that are installed. This behaviour is the source of the following dependency conflicts.\n",
            "albumentations 0.1.12 requires imgaug<0.2.7,>=0.2.5, but you have imgaug 0.2.9 which is incompatible.\u001b[0m\n",
            "Successfully installed Pillow-9.0.1 pytesseract-0.3.9\n"
          ]
        },
        {
          "output_type": "display_data",
          "data": {
            "application/vnd.colab-display-data+json": {
              "pip_warning": {
                "packages": [
                  "PIL"
                ]
              }
            }
          },
          "metadata": {}
        }
      ],
      "source": [
        "!sudo apt install tesseract-ocr\n",
        "!pip install pytesseract"
      ]
    },
    {
      "cell_type": "code",
      "source": [
        "data_path = '/content/drive/MyDrive/Colab Notebooks/PaySlips_Extraction/Payslips'"
      ],
      "metadata": {
        "id": "ODwVCsTW4mtr"
      },
      "execution_count": 4,
      "outputs": []
    },
    {
      "cell_type": "code",
      "source": [
        "import pytesseract"
      ],
      "metadata": {
        "id": "xcgE0D_G5OaS"
      },
      "execution_count": 3,
      "outputs": []
    },
    {
      "cell_type": "code",
      "source": [
        "file_path = data_path + '/financial_document_payslip_2019_12_09-15_53_42_611697_.jpg'\n",
        "print(pytesseract.image_to_string(file_path))"
      ],
      "metadata": {
        "colab": {
          "base_uri": "https://localhost:8080/"
        },
        "id": "Ja2WyRZI43hq",
        "outputId": "868c125d-7d4b-4ae3-f6a6-7ef65114ca91"
      },
      "execution_count": 4,
      "outputs": [
        {
          "output_type": "stream",
          "name": "stdout",
          "text": [
            "Cognizant Technology Solutions India Private Ltd\n",
            "\n",
            "Co ni 270 nt Payslip for the month of Mar 2019\n",
            "g Financial Period 2018-2019\n",
            "Private & Confidential\n",
            "\n",
            "Associate Information\n",
            "\n",
            "Mr. Vaibhav Sawatkar\n",
            "Associate Id 560560 Manyata (MBP) Bld F3&G4 SEZ\n",
            "\n",
            "Designation Sr. Analyst - Biz Development PAN DWxxxxxx4N\n",
            "Male Bank A/C XXXXXXXX4883\n",
            "\n",
            "saycane Fst Nan\n",
            "PF A/C TN/MAS/31309/360545 Salary Credited\n",
            "\n",
            "AN 100743724293 Available Calendar Days 31\n",
            "SA Policy No - Paid Days 31\n",
            "\n",
            " \n",
            "\n",
            " \n",
            "\n",
            " \n",
            "\n",
            "Basic 35,250] | ProfessionTax 200\n",
            "\n",
            "Special Allowance 38,660\n",
            "Annual Incentive 100,000\n",
            "\n",
            "(A) Total Earnings 193,450||(B) Total Deduction\n",
            "\n",
            " \n",
            "\n",
            " \n",
            "\n",
            " \n",
            "\n",
            "Net Salary = (A) - (B) 78,795\n",
            "\n",
            "Attested\n",
            "\n",
            " \n",
            "\n",
            "Registered Office:Cognizant Technology Solutions India Private Limited\n",
            "# 5/535, old Mahabalipuram Road, Chennai - 600 097.\n",
            "\n",
            "Page 1 of 1\n",
            "\f\n"
          ]
        }
      ]
    },
    {
      "cell_type": "code",
      "source": [
        "!pip install pdfPlumber"
      ],
      "metadata": {
        "colab": {
          "base_uri": "https://localhost:8080/"
        },
        "id": "VFHfqQ8V7bKA",
        "outputId": "90c754c1-9503-41b1-f990-fe88804abdcb"
      },
      "execution_count": 2,
      "outputs": [
        {
          "output_type": "stream",
          "name": "stdout",
          "text": [
            "Requirement already satisfied: pdfPlumber in /usr/local/lib/python3.7/dist-packages (0.6.0)\n",
            "Requirement already satisfied: pdfminer.six==20211012 in /usr/local/lib/python3.7/dist-packages (from pdfPlumber) (20211012)\n",
            "Requirement already satisfied: Wand>=0.6.7 in /usr/local/lib/python3.7/dist-packages (from pdfPlumber) (0.6.7)\n",
            "Requirement already satisfied: Pillow>=8.4 in /usr/local/lib/python3.7/dist-packages (from pdfPlumber) (9.0.1)\n",
            "Requirement already satisfied: chardet in /usr/local/lib/python3.7/dist-packages (from pdfminer.six==20211012->pdfPlumber) (3.0.4)\n",
            "Requirement already satisfied: cryptography in /usr/local/lib/python3.7/dist-packages (from pdfminer.six==20211012->pdfPlumber) (36.0.2)\n",
            "Requirement already satisfied: cffi>=1.12 in /usr/local/lib/python3.7/dist-packages (from cryptography->pdfminer.six==20211012->pdfPlumber) (1.15.0)\n",
            "Requirement already satisfied: pycparser in /usr/local/lib/python3.7/dist-packages (from cffi>=1.12->cryptography->pdfminer.six==20211012->pdfPlumber) (2.21)\n"
          ]
        }
      ]
    },
    {
      "cell_type": "code",
      "source": [
        "import pdfplumber\n",
        "file_path = data_path + '/financial_document_payslip_2019_12_09-15_53_42_610460_.pdf'\n",
        "with pdfplumber.open(file_path) as pdf:\n",
        "    first_page = pdf.pages[0]\n",
        "    text_from_pdf = first_page.extract_text()\n",
        "\n",
        "print(text_from_pdf)\n",
        "\n",
        "text = text_from_pdf"
      ],
      "metadata": {
        "colab": {
          "base_uri": "https://localhost:8080/"
        },
        "id": "yEoadUob7l_w",
        "outputId": "b3339498-ea6a-46c6-bd81-708404d450e6"
      },
      "execution_count": 5,
      "outputs": [
        {
          "output_type": "stream",
          "name": "stdout",
          "text": [
            " \n",
            "CIPLA LIMITED  \n",
            "CIPLA HOUSE LOWER PAREL MUMBAI - 400013  \n",
            " \n",
            "Pay Slip for the month of June 2019  \n",
            " \n",
            "All amounts in INR  \n",
            " \n",
            " Emp Code : 107177  Location : Indore\n",
            " Emp Name : Sunil Rameshwar Bunkar  IFSC Code : ICIC\n",
            " Department : Tablet Manufacturing  Bank A/c No. : 153201512196 (ICICI Bank)\n",
            " Designation : Assistant Manager  PAN : AYHPB5362K\n",
            " Grade : C I  PF No. : MH/1073/107177\n",
            " DOB : 04 Nov 1986    DOJ:03 Nov 2014  Payable Days:30.00   LWP:0.00  PF UAN. : 100474150677\n",
            " ESI No. :\n",
            "           Arrear Day(s) 0.00 Pension Number : MH/1073/91322\n",
            "                       \n",
            "Earnings Deductions\n",
            "Description Rate Monthly Arrear Total Description Amount\n",
            " Basic 11951.00  11951.00  0.00  11951.00  PF 1434.00 \n",
            " House Rent Allowance 5976.00  5976.00  0.00  5976.00  PROF. TAX 208.00 \n",
            " Basket of Allowances 30063.00  30063.00  0.00  30063.00  Canteen_Recovery 150.80 \n",
            "          Lwf_Ded 10.00 \n",
            "          Transportation_Recovery 400.00 \n",
            " GROSS EARNINGS 47990.00  47990.00  0.00  47990.00   GROSS DEDUCTIONS 2202.80\n",
            "Net Pay : 45787.00 (FOURTY FIVE THOUSAND SEVEN HUNDRED EIGHTY SEVEN ONLY)\n",
            " \n",
            "Income Tax Worksheet for the Period April 2019 - March 2020\n",
            "Description Gross Exempt Taxable Deduction Under Chapter VI-A Taxable HRA Calculation(Non-Metro)\n",
            " Basic 143412.00  0.00  143412.00  Investments u/s 80C    Rent Paid 0.00 \n",
            " House Rent Allowance 71712.00  0.00  71712.00  Housing Loan Repayment 50585.00  From: 01/04/2019  \n",
            " Basket of Allowances 360756.00  0.00  360756.00  LIC DIRECT 21700.00  To: 31/03/2020  \n",
            " Advance Bonus_YTD 3663.00  0.00  3663.00  Mutual Fund 20000.00  1. Actual HRA 71712.00 \n",
            " Advance Bonus QTY 1221.00  0.00  1221.00  Provident Fund 17209.00  2. 40% or 50% of Basic 57365.00 \n",
            "        Tuition Fee 40000.00  3. Rent - 10% Basic 0.00 \n",
            "           Least of above is exempt 0.00 \n",
            "           Taxable HRA 0.00 \n",
            " Gross 580764.00  0.00  580764.00  Total Investments u/s 80C 149494.00    \n",
            " Tax Working  U/S 80C 149494.00    \n",
            " Standard Deduction 50000.00  80D 32359.00  TDS Deducted Monthly  \n",
            " Previous Employer Taxable Income 0.00  Total Ded Under Chapter VI-A181853.00  Month Amount\n",
            " Previous Employer Professional Tax 0.00     April-2019 0.00 \n",
            " Professional Tax 2500.00     May-2019 0.00 \n",
            " Under Chapter VI-A 181853.00     June-2019 0.00 \n",
            " Any Other Income -120850.47     Tax Deducted on Perq. 0.00 \n",
            " Taxable Income 225570.00     Total 0.00 \n",
            " Total Tax 0.00       \n",
            "  TSauxrc Rheabrgaete u/s 87a 00..0000              \n",
            " Tax Due 0.00       \n",
            " Health and Education Cess 0.00       \n",
            " Net Tax 0.00       \n",
            " Tax Deducted (Previous Employer) 0.00       \n",
            "  TTaaxx  DDeedduucctteedd  oonn  PAenryq O. ther Income. 00..0000              \n",
            " Tax Deducted Till Date 0.00       \n",
            " Tax to be Deducted 0.00        \n",
            " Tax per month 0.00       \n",
            " Tax on Non-Recurring Earnings 0.00  Interest Paid on Housing Loan 120850.47 \n",
            " Tax Deduction for this month 0.00  Total Any Other Income  \n",
            " \n"
          ]
        }
      ]
    },
    {
      "cell_type": "code",
      "source": [
        "! pip install -U spacy -q"
      ],
      "metadata": {
        "id": "CSDCx7VqCHC_",
        "colab": {
          "base_uri": "https://localhost:8080/"
        },
        "outputId": "9f5c90e4-5819-458d-8685-80058433919c"
      },
      "execution_count": 7,
      "outputs": [
        {
          "output_type": "stream",
          "name": "stdout",
          "text": [
            "\u001b[K     |████████████████████████████████| 6.0 MB 5.1 MB/s \n",
            "\u001b[K     |████████████████████████████████| 42 kB 921 kB/s \n",
            "\u001b[K     |████████████████████████████████| 653 kB 42.6 MB/s \n",
            "\u001b[K     |████████████████████████████████| 10.1 MB 39.6 MB/s \n",
            "\u001b[K     |████████████████████████████████| 451 kB 53.0 MB/s \n",
            "\u001b[K     |████████████████████████████████| 181 kB 51.1 MB/s \n",
            "\u001b[?25h"
          ]
        }
      ]
    },
    {
      "cell_type": "code",
      "source": [
        "!python -m spacy info"
      ],
      "metadata": {
        "colab": {
          "base_uri": "https://localhost:8080/"
        },
        "id": "paJcUF_ecMBO",
        "outputId": "608dfcde-c3eb-4f3a-f0de-7caae8e7f642"
      },
      "execution_count": 8,
      "outputs": [
        {
          "output_type": "stream",
          "name": "stdout",
          "text": [
            "\u001b[1m\n",
            "============================== Info about spaCy ==============================\u001b[0m\n",
            "\n",
            "spaCy version    3.2.4                         \n",
            "Location         /usr/local/lib/python3.7/dist-packages/spacy\n",
            "Platform         Linux-5.4.144+-x86_64-with-Ubuntu-18.04-bionic\n",
            "Python version   3.7.13                        \n",
            "Pipelines                                      \n",
            "\n"
          ]
        }
      ]
    },
    {
      "cell_type": "code",
      "source": [
        "import spacy\n",
        "from spacy.tokens import DocBin\n",
        "from tqdm import tqdm\n",
        "\n",
        "nlp = spacy.blank(\"en\") # load a new spacy model\n",
        "db = DocBin() # create a DocBin object"
      ],
      "metadata": {
        "id": "jJPZBT9kcgQ9"
      },
      "execution_count": 9,
      "outputs": []
    },
    {
      "cell_type": "code",
      "source": [
        "import json\n",
        "f = open('/content/drive/MyDrive/Colab Notebooks/PaySlips_Extraction/train_text.json')\n",
        "TRAIN_DATA = json.load(f)"
      ],
      "metadata": {
        "id": "FTBfv5Gxc6NA"
      },
      "execution_count": 10,
      "outputs": []
    },
    {
      "cell_type": "code",
      "source": [
        "import json\n",
        "f = open('/content/drive/MyDrive/Colab Notebooks/PaySlips_Extraction/test_text.json')\n",
        "TEST_DATA = json.load(f)"
      ],
      "metadata": {
        "id": "QwAU2Z49P3bl"
      },
      "execution_count": 11,
      "outputs": []
    },
    {
      "cell_type": "code",
      "source": [
        "for text, annot in tqdm(TRAIN_DATA['annotations']): \n",
        "    doc = nlp.make_doc(text) \n",
        "    ents = []\n",
        "    for start, end, label in annot[\"entities\"]:\n",
        "        span = doc.char_span(start, end, label=label, alignment_mode=\"contract\")\n",
        "        if span is None:\n",
        "            print(\"Skipping entity\")\n",
        "        else:\n",
        "            ents.append(span)\n",
        "    doc.ents = ents \n",
        "    db.add(doc)\n",
        "\n",
        "db.to_disk(\"./training_data.spacy\") # save the docbin object"
      ],
      "metadata": {
        "colab": {
          "base_uri": "https://localhost:8080/"
        },
        "id": "-8KFs0KfdPNn",
        "outputId": "da398b41-c4e6-4999-c08a-dea2fecafc65"
      },
      "execution_count": 12,
      "outputs": [
        {
          "output_type": "stream",
          "name": "stderr",
          "text": [
            "100%|██████████| 220/220 [00:00<00:00, 1711.35it/s]"
          ]
        },
        {
          "output_type": "stream",
          "name": "stdout",
          "text": [
            "Skipping entity\n",
            "Skipping entity\n"
          ]
        },
        {
          "output_type": "stream",
          "name": "stderr",
          "text": [
            "\n"
          ]
        }
      ]
    },
    {
      "cell_type": "code",
      "source": [
        "for text, annot in tqdm(TEST_DATA['annotations']): \n",
        "    doc = nlp.make_doc(text) \n",
        "    ents = []\n",
        "    for start, end, label in annot[\"entities\"]:\n",
        "        span = doc.char_span(start, end, label=label, alignment_mode=\"contract\")\n",
        "        if span is None:\n",
        "            print(\"Skipping entity\")\n",
        "        else:\n",
        "            ents.append(span)\n",
        "    doc.ents = ents \n",
        "    db.add(doc)\n",
        "\n",
        "db.to_disk(\"./test_data.spacy\") # save the docbin object"
      ],
      "metadata": {
        "colab": {
          "base_uri": "https://localhost:8080/"
        },
        "id": "ub_HSMsRQGQR",
        "outputId": "a1bde613-78dd-4038-d49a-37b0006a9952"
      },
      "execution_count": 13,
      "outputs": [
        {
          "output_type": "stream",
          "name": "stderr",
          "text": [
            "100%|██████████| 17/17 [00:00<00:00, 1360.44it/s]\n"
          ]
        }
      ]
    },
    {
      "cell_type": "code",
      "source": [
        "! python -m spacy init config config.cfg --lang en --pipeline ner --optimize efficiency -F"
      ],
      "metadata": {
        "colab": {
          "base_uri": "https://localhost:8080/"
        },
        "id": "mW80sOaVdhsQ",
        "outputId": "3552758e-71e3-4a2f-cbda-eeba3908d5ef"
      },
      "execution_count": 14,
      "outputs": [
        {
          "output_type": "stream",
          "name": "stdout",
          "text": [
            "\u001b[38;5;3m⚠ To generate a more effective transformer-based config (GPU-only),\n",
            "install the spacy-transformers package and re-run this command. The config\n",
            "generated now does not use transformers.\u001b[0m\n",
            "\u001b[38;5;4mℹ Generated config template specific for your use case\u001b[0m\n",
            "- Language: en\n",
            "- Pipeline: ner\n",
            "- Optimize for: efficiency\n",
            "- Hardware: CPU\n",
            "- Transformer: None\n",
            "\u001b[38;5;2m✔ Auto-filled config with all values\u001b[0m\n",
            "\u001b[38;5;2m✔ Saved config\u001b[0m\n",
            "config.cfg\n",
            "You can now add your data and train your pipeline:\n",
            "python -m spacy train config.cfg --paths.train ./train.spacy --paths.dev ./dev.spacy\n"
          ]
        }
      ]
    },
    {
      "cell_type": "code",
      "source": [
        "! python -m spacy train config.cfg --output ./ --paths.train ./training_data.spacy --paths.dev ./test_data.spacy"
      ],
      "metadata": {
        "colab": {
          "base_uri": "https://localhost:8080/"
        },
        "id": "qQWwqVMOdm-L",
        "outputId": "aa7ebf6a-895d-4f53-d883-76fc5b6e579b"
      },
      "execution_count": 17,
      "outputs": [
        {
          "output_type": "stream",
          "name": "stdout",
          "text": [
            "\u001b[38;5;4mℹ Saving to output directory: .\u001b[0m\n",
            "\u001b[38;5;4mℹ Using CPU\u001b[0m\n",
            "\u001b[1m\n",
            "=========================== Initializing pipeline ===========================\u001b[0m\n",
            "[2022-03-31 14:52:03,592] [INFO] Set up nlp object from config\n",
            "[2022-03-31 14:52:03,605] [INFO] Pipeline: ['tok2vec', 'ner']\n",
            "[2022-03-31 14:52:03,610] [INFO] Created vocabulary\n",
            "[2022-03-31 14:52:03,612] [INFO] Finished initializing nlp object\n",
            "[2022-03-31 14:52:03,979] [INFO] Initialized pipeline components: ['tok2vec', 'ner']\n",
            "\u001b[38;5;2m✔ Initialized pipeline\u001b[0m\n",
            "\u001b[1m\n",
            "============================= Training pipeline =============================\u001b[0m\n",
            "\u001b[38;5;4mℹ Pipeline: ['tok2vec', 'ner']\u001b[0m\n",
            "\u001b[38;5;4mℹ Initial learn rate: 0.001\u001b[0m\n",
            "E    #       LOSS TOK2VEC  LOSS NER  ENTS_F  ENTS_P  ENTS_R  SCORE \n",
            "---  ------  ------------  --------  ------  ------  ------  ------\n",
            "  0       0          0.00     66.56    2.86    3.41    2.46    0.03\n",
            " 12     200        629.36   5924.16   92.01   92.83   91.20    0.92\n",
            " 27     400        222.15    462.00   97.35   97.86   96.83    0.97\n",
            " 46     600        160.74    208.34   97.16   97.86   96.48    0.97\n",
            " 69     800        222.58    247.56   97.01   96.84   97.18    0.97\n",
            " 96    1000         85.11    219.25   97.53   97.87   97.18    0.98\n",
            "129    1200        182.89    284.75   97.35   97.86   96.83    0.97\n",
            "170    1400        109.53    306.56   97.18   97.18   97.18    0.97\n",
            "220    1600         86.37    341.84   97.00   97.17   96.83    0.97\n",
            "281    1800         78.01    393.89   98.05   98.92   97.18    0.98\n",
            "348    2000         84.51    417.80   97.72   97.54   97.89    0.98\n",
            "441    2200         81.10    528.11   97.72   97.54   97.89    0.98\n",
            "541    2400         68.87    554.56   97.36   97.19   97.54    0.97\n",
            "641    2600         75.63    545.08   97.00   97.17   96.83    0.97\n",
            "741    2800         64.23    517.47   97.01   96.84   97.18    0.97\n",
            "841    3000         63.62    529.30   97.01   96.84   97.18    0.97\n",
            "941    3200         51.50    533.57   97.54   97.54   97.54    0.98\n",
            "1041    3400         60.84    528.41   97.18   97.18   97.18    0.97\n",
            "\u001b[38;5;2m✔ Saved pipeline to output directory\u001b[0m\n",
            "model-last\n"
          ]
        }
      ]
    },
    {
      "cell_type": "code",
      "source": [
        "nlp_ner = spacy.load(\"/content/model-best\")"
      ],
      "metadata": {
        "id": "6nv9KxH6dsKQ"
      },
      "execution_count": 18,
      "outputs": []
    },
    {
      "cell_type": "code",
      "source": [
        "doc = nlp_ner(text)"
      ],
      "metadata": {
        "id": "iab6nsDKggF2"
      },
      "execution_count": 23,
      "outputs": []
    },
    {
      "cell_type": "code",
      "source": [
        "spacy.displacy.render(doc, style=\"ent\", jupyter=True) # display in Jupyter"
      ],
      "metadata": {
        "colab": {
          "base_uri": "https://localhost:8080/",
          "height": 1000
        },
        "id": "xvveFWZPhkbu",
        "outputId": "e65269e3-a535-4e99-a99a-730a48f1d1be"
      },
      "execution_count": 24,
      "outputs": [
        {
          "output_type": "display_data",
          "data": {
            "text/plain": [
              "<IPython.core.display.HTML object>"
            ],
            "text/html": [
              "<span class=\"tex2jax_ignore\"><div class=\"entities\" style=\"line-height: 2.5; direction: ltr\"> </br>CIPLA LIMITED  </br>CIPLA HOUSE LOWER PAREL MUMBAI - 400013  </br> </br>Pay Slip for the month of June 2019  </br> </br>All amounts in INR  </br> </br> \n",
              "<mark class=\"entity\" style=\"background: #ddd; padding: 0.45em 0.6em; margin: 0 0.25em; line-height: 1; border-radius: 0.35em;\">\n",
              "    Emp Code : 107177\n",
              "    <span style=\"font-size: 0.8em; font-weight: bold; line-height: 1; border-radius: 0.35em; vertical-align: middle; margin-left: 0.5rem\">EMPLOYEE CODE</span>\n",
              "</mark>\n",
              "  Location : Indore</br> \n",
              "<mark class=\"entity\" style=\"background: #ddd; padding: 0.45em 0.6em; margin: 0 0.25em; line-height: 1; border-radius: 0.35em;\">\n",
              "    Emp Name : Sunil Rameshwar\n",
              "    <span style=\"font-size: 0.8em; font-weight: bold; line-height: 1; border-radius: 0.35em; vertical-align: middle; margin-left: 0.5rem\">NAME OF LIFE ASSURED</span>\n",
              "</mark>\n",
              " Bunkar  IFSC Code : ICIC</br> Department : Tablet Manufacturing  \n",
              "<mark class=\"entity\" style=\"background: #ddd; padding: 0.45em 0.6em; margin: 0 0.25em; line-height: 1; border-radius: 0.35em;\">\n",
              "    Bank A/c No. : 153201512196\n",
              "    <span style=\"font-size: 0.8em; font-weight: bold; line-height: 1; border-radius: 0.35em; vertical-align: middle; margin-left: 0.5rem\">BANK ACCOUNT NUMBER</span>\n",
              "</mark>\n",
              " (ICICI Bank)</br> \n",
              "<mark class=\"entity\" style=\"background: #ddd; padding: 0.45em 0.6em; margin: 0 0.25em; line-height: 1; border-radius: 0.35em;\">\n",
              "    Designation : Assistant Manager\n",
              "    <span style=\"font-size: 0.8em; font-weight: bold; line-height: 1; border-radius: 0.35em; vertical-align: middle; margin-left: 0.5rem\">DESIGNATION</span>\n",
              "</mark>\n",
              "  \n",
              "<mark class=\"entity\" style=\"background: #ddd; padding: 0.45em 0.6em; margin: 0 0.25em; line-height: 1; border-radius: 0.35em;\">\n",
              "    PAN : AYHPB5362K\n",
              "    <span style=\"font-size: 0.8em; font-weight: bold; line-height: 1; border-radius: 0.35em; vertical-align: middle; margin-left: 0.5rem\">PAN NUMBER</span>\n",
              "</mark>\n",
              "</br> Grade : C I  \n",
              "<mark class=\"entity\" style=\"background: #ddd; padding: 0.45em 0.6em; margin: 0 0.25em; line-height: 1; border-radius: 0.35em;\">\n",
              "    PF No. : MH/1073/107177\n",
              "    <span style=\"font-size: 0.8em; font-weight: bold; line-height: 1; border-radius: 0.35em; vertical-align: middle; margin-left: 0.5rem\">PF NUMBER</span>\n",
              "</mark>\n",
              "</br> DOB : 04 Nov 1986    \n",
              "<mark class=\"entity\" style=\"background: #ddd; padding: 0.45em 0.6em; margin: 0 0.25em; line-height: 1; border-radius: 0.35em;\">\n",
              "    DOJ:03 Nov 2014\n",
              "    <span style=\"font-size: 0.8em; font-weight: bold; line-height: 1; border-radius: 0.35em; vertical-align: middle; margin-left: 0.5rem\">DATE OF JOINING</span>\n",
              "</mark>\n",
              "  \n",
              "<mark class=\"entity\" style=\"background: #ddd; padding: 0.45em 0.6em; margin: 0 0.25em; line-height: 1; border-radius: 0.35em;\">\n",
              "    Payable Days:30.00\n",
              "    <span style=\"font-size: 0.8em; font-weight: bold; line-height: 1; border-radius: 0.35em; vertical-align: middle; margin-left: 0.5rem\">NO OF WORKING DAYS</span>\n",
              "</mark>\n",
              "   LWP:0.00  PF \n",
              "<mark class=\"entity\" style=\"background: #ddd; padding: 0.45em 0.6em; margin: 0 0.25em; line-height: 1; border-radius: 0.35em;\">\n",
              "    UAN. : 100474150677\n",
              "    <span style=\"font-size: 0.8em; font-weight: bold; line-height: 1; border-radius: 0.35em; vertical-align: middle; margin-left: 0.5rem\">UAN NUMBER</span>\n",
              "</mark>\n",
              "</br> ESI No. :</br>           Arrear Day(s) 0.00 \n",
              "<mark class=\"entity\" style=\"background: #ddd; padding: 0.45em 0.6em; margin: 0 0.25em; line-height: 1; border-radius: 0.35em;\">\n",
              "    Pension Number : MH/1073/91322\n",
              "    <span style=\"font-size: 0.8em; font-weight: bold; line-height: 1; border-radius: 0.35em; vertical-align: middle; margin-left: 0.5rem\">PF NUMBER</span>\n",
              "</mark>\n",
              "</br>                       </br>Earnings Deductions</br>Description Rate Monthly Arrear Total Description Amount</br> Basic 11951.00  11951.00  0.00  11951.00  \n",
              "<mark class=\"entity\" style=\"background: #ddd; padding: 0.45em 0.6em; margin: 0 0.25em; line-height: 1; border-radius: 0.35em;\">\n",
              "    PF 1434.00\n",
              "    <span style=\"font-size: 0.8em; font-weight: bold; line-height: 1; border-radius: 0.35em; vertical-align: middle; margin-left: 0.5rem\">DEDUCTION - PF</span>\n",
              "</mark>\n",
              " </br> House Rent Allowance 5976.00  5976.00  0.00  5976.00  \n",
              "<mark class=\"entity\" style=\"background: #ddd; padding: 0.45em 0.6em; margin: 0 0.25em; line-height: 1; border-radius: 0.35em;\">\n",
              "    PROF. TAX 208.00\n",
              "    <span style=\"font-size: 0.8em; font-weight: bold; line-height: 1; border-radius: 0.35em; vertical-align: middle; margin-left: 0.5rem\">DEDUCTION - PF</span>\n",
              "</mark>\n",
              " </br> Basket of \n",
              "<mark class=\"entity\" style=\"background: #ddd; padding: 0.45em 0.6em; margin: 0 0.25em; line-height: 1; border-radius: 0.35em;\">\n",
              "    Allowances 30063.00\n",
              "    <span style=\"font-size: 0.8em; font-weight: bold; line-height: 1; border-radius: 0.35em; vertical-align: middle; margin-left: 0.5rem\">NAME OF THE COMPANY</span>\n",
              "</mark>\n",
              "  30063.00  0.00  30063.00  Canteen_Recovery 150.80 </br>          Lwf_Ded 10.00 </br>          Transportation_Recovery 400.00 </br> GROSS EARNINGS 47990.00  47990.00  0.00  47990.00   GROSS DEDUCTIONS 2202.80</br>\n",
              "<mark class=\"entity\" style=\"background: #ddd; padding: 0.45em 0.6em; margin: 0 0.25em; line-height: 1; border-radius: 0.35em;\">\n",
              "    Net Pay : 45787.00\n",
              "    <span style=\"font-size: 0.8em; font-weight: bold; line-height: 1; border-radius: 0.35em; vertical-align: middle; margin-left: 0.5rem\">SALARY FOR MONTH</span>\n",
              "</mark>\n",
              " (FOURTY FIVE THOUSAND SEVEN HUNDRED EIGHTY SEVEN ONLY)</br> </br>Income Tax Worksheet for the Period April 2019 - March 2020</br>Description Gross Exempt Taxable Deduction Under Chapter VI-A Taxable HRA Calculation(Non-Metro)</br> Basic 143412.00  0.00  143412.00  Investments u/s 80C    \n",
              "<mark class=\"entity\" style=\"background: #ddd; padding: 0.45em 0.6em; margin: 0 0.25em; line-height: 1; border-radius: 0.35em;\">\n",
              "    Rent Paid 0.00\n",
              "    <span style=\"font-size: 0.8em; font-weight: bold; line-height: 1; border-radius: 0.35em; vertical-align: middle; margin-left: 0.5rem\">DATE OF JOINING</span>\n",
              "</mark>\n",
              " </br> House Rent Allowance 71712.00  0.00  71712.00  Housing Loan Repayment 50585.00  From: 01/04/2019  </br> Basket of Allowances 360756.00  0.00  360756.00  LIC DIRECT 21700.00  To: 31/03/2020  </br> Advance Bonus_YTD 3663.00  0.00  3663.00  Mutual Fund 20000.00  1. Actual HRA 71712.00 </br> Advance Bonus QTY 1221.00  0.00  1221.00  \n",
              "<mark class=\"entity\" style=\"background: #ddd; padding: 0.45em 0.6em; margin: 0 0.25em; line-height: 1; border-radius: 0.35em;\">\n",
              "    Provident Fund 17209.00\n",
              "    <span style=\"font-size: 0.8em; font-weight: bold; line-height: 1; border-radius: 0.35em; vertical-align: middle; margin-left: 0.5rem\">DEDUCTION - PF</span>\n",
              "</mark>\n",
              "  2. 40% or 50% of Basic 57365.00 </br>        Tuition Fee 40000.00  3. Rent - 10% Basic 0.00 </br>           Least of above is exempt 0.00 </br>           Taxable HRA 0.00 </br> Gross 580764.00  0.00  580764.00  \n",
              "<mark class=\"entity\" style=\"background: #ddd; padding: 0.45em 0.6em; margin: 0 0.25em; line-height: 1; border-radius: 0.35em;\">\n",
              "    Total Investments u/s 80C 149494.00\n",
              "    <span style=\"font-size: 0.8em; font-weight: bold; line-height: 1; border-radius: 0.35em; vertical-align: middle; margin-left: 0.5rem\">SALARY FOR MONTH</span>\n",
              "</mark>\n",
              "    </br> Tax Working  U/S 80C 149494.00    </br> Standard Deduction 50000.00  80D 32359.00  TDS Deducted Monthly  </br> Previous Employer Taxable Income 0.00  Total \n",
              "<mark class=\"entity\" style=\"background: #ddd; padding: 0.45em 0.6em; margin: 0 0.25em; line-height: 1; border-radius: 0.35em;\">\n",
              "    Ded Under Chapter VI-A181853.00\n",
              "    <span style=\"font-size: 0.8em; font-weight: bold; line-height: 1; border-radius: 0.35em; vertical-align: middle; margin-left: 0.5rem\">DESIGNATION</span>\n",
              "</mark>\n",
              "  Month Amount</br> Previous Employer \n",
              "<mark class=\"entity\" style=\"background: #ddd; padding: 0.45em 0.6em; margin: 0 0.25em; line-height: 1; border-radius: 0.35em;\">\n",
              "    Professional Tax 0.00\n",
              "    <span style=\"font-size: 0.8em; font-weight: bold; line-height: 1; border-radius: 0.35em; vertical-align: middle; margin-left: 0.5rem\">NAME OF THE COMPANY</span>\n",
              "</mark>\n",
              "     April-2019 0.00 </br> \n",
              "<mark class=\"entity\" style=\"background: #ddd; padding: 0.45em 0.6em; margin: 0 0.25em; line-height: 1; border-radius: 0.35em;\">\n",
              "    Professional Tax 2500.00\n",
              "    <span style=\"font-size: 0.8em; font-weight: bold; line-height: 1; border-radius: 0.35em; vertical-align: middle; margin-left: 0.5rem\">NAME OF THE COMPANY</span>\n",
              "</mark>\n",
              "     May-2019 0.00 </br> Under Chapter VI-A 181853.00     June-2019 0.00 </br> Any Other Income -120850.47     Tax Deducted on Perq. 0.00 </br> Taxable Income 225570.00     Total 0.00 </br> Total Tax 0.00       </br>  TSauxrc Rheabrgaete u/s 87a 00..0000              </br> Tax Due 0.00       </br> Health and Education Cess 0.00       </br> \n",
              "<mark class=\"entity\" style=\"background: #ddd; padding: 0.45em 0.6em; margin: 0 0.25em; line-height: 1; border-radius: 0.35em;\">\n",
              "    Net Tax 0.00\n",
              "    <span style=\"font-size: 0.8em; font-weight: bold; line-height: 1; border-radius: 0.35em; vertical-align: middle; margin-left: 0.5rem\">SALARY FOR MONTH</span>\n",
              "</mark>\n",
              "       </br> Tax Deducted (Previous Employer) 0.00       </br>  TTaaxx  DDeedduucctteedd  oonn  \n",
              "<mark class=\"entity\" style=\"background: #ddd; padding: 0.45em 0.6em; margin: 0 0.25em; line-height: 1; border-radius: 0.35em;\">\n",
              "    PAenryq O. ther\n",
              "    <span style=\"font-size: 0.8em; font-weight: bold; line-height: 1; border-radius: 0.35em; vertical-align: middle; margin-left: 0.5rem\">DEDUCTION - PF</span>\n",
              "</mark>\n",
              " Income. 00..0000              </br> Tax Deducted Till Date 0.00       </br> Tax to be Deducted 0.00        </br> Tax per month 0.00       </br> Tax on Non-Recurring Earnings 0.00  Interest Paid on Housing Loan 120850.47 </br> Tax Deduction for this month 0.00  Total Any Other Income  </br> </div></span>"
            ]
          },
          "metadata": {}
        }
      ]
    },
    {
      "cell_type": "code",
      "source": [
        "import pickle"
      ],
      "metadata": {
        "id": "mIz6pCAmXe7n"
      },
      "execution_count": 28,
      "outputs": []
    },
    {
      "cell_type": "code",
      "source": [
        "# save the model to disk\n",
        "filename = '/content/drive/MyDrive/Colab Notebooks/PaySlips_Extraction/finalized_model.sav'\n",
        "pickle.dump(nlp_ner, open(filename, 'wb'))"
      ],
      "metadata": {
        "id": "OmV2jlmjm6d4"
      },
      "execution_count": 29,
      "outputs": []
    },
    {
      "cell_type": "code",
      "source": [
        "! pip install -U spacy -q\n",
        "\n",
        "import pickle\n",
        "import spacy\n",
        "\n",
        "# load the model from disk\n",
        "filename = '/content/drive/MyDrive/Colab Notebooks/PaySlips_Extraction/finalized_model.sav'\n",
        "loaded_model = pickle.load(open(filename, 'rb'))\n",
        "\n",
        "# Display results from the model\n",
        "result = loaded_model(text)\n",
        "spacy.displacy.render(result, style=\"ent\", jupyter=True) # display in Jupyter"
      ],
      "metadata": {
        "colab": {
          "base_uri": "https://localhost:8080/",
          "height": 1000
        },
        "id": "-zW817yOnZfT",
        "outputId": "9845d47a-f0b6-41fb-a52b-a87b748aa889"
      },
      "execution_count": 6,
      "outputs": [
        {
          "output_type": "stream",
          "name": "stdout",
          "text": [
            "\u001b[K     |████████████████████████████████| 6.0 MB 5.2 MB/s \n",
            "\u001b[K     |████████████████████████████████| 451 kB 67.0 MB/s \n",
            "\u001b[K     |████████████████████████████████| 10.1 MB 41.3 MB/s \n",
            "\u001b[K     |████████████████████████████████| 42 kB 1.1 MB/s \n",
            "\u001b[K     |████████████████████████████████| 181 kB 57.9 MB/s \n",
            "\u001b[K     |████████████████████████████████| 653 kB 58.3 MB/s \n",
            "\u001b[?25h"
          ]
        },
        {
          "output_type": "display_data",
          "data": {
            "text/plain": [
              "<IPython.core.display.HTML object>"
            ],
            "text/html": [
              "<span class=\"tex2jax_ignore\"><div class=\"entities\" style=\"line-height: 2.5; direction: ltr\"> </br>CIPLA LIMITED  </br>CIPLA HOUSE LOWER PAREL MUMBAI - 400013  </br> </br>Pay Slip for the month of June 2019  </br> </br>All amounts in INR  </br> </br> \n",
              "<mark class=\"entity\" style=\"background: #ddd; padding: 0.45em 0.6em; margin: 0 0.25em; line-height: 1; border-radius: 0.35em;\">\n",
              "    Emp Code : 107177\n",
              "    <span style=\"font-size: 0.8em; font-weight: bold; line-height: 1; border-radius: 0.35em; vertical-align: middle; margin-left: 0.5rem\">EMPLOYEE CODE</span>\n",
              "</mark>\n",
              "  Location : Indore</br> \n",
              "<mark class=\"entity\" style=\"background: #ddd; padding: 0.45em 0.6em; margin: 0 0.25em; line-height: 1; border-radius: 0.35em;\">\n",
              "    Emp Name : Sunil Rameshwar\n",
              "    <span style=\"font-size: 0.8em; font-weight: bold; line-height: 1; border-radius: 0.35em; vertical-align: middle; margin-left: 0.5rem\">NAME OF LIFE ASSURED</span>\n",
              "</mark>\n",
              " Bunkar  IFSC Code : ICIC</br> Department : Tablet Manufacturing  \n",
              "<mark class=\"entity\" style=\"background: #ddd; padding: 0.45em 0.6em; margin: 0 0.25em; line-height: 1; border-radius: 0.35em;\">\n",
              "    Bank A/c No. : 153201512196\n",
              "    <span style=\"font-size: 0.8em; font-weight: bold; line-height: 1; border-radius: 0.35em; vertical-align: middle; margin-left: 0.5rem\">BANK ACCOUNT NUMBER</span>\n",
              "</mark>\n",
              " (ICICI Bank)</br> \n",
              "<mark class=\"entity\" style=\"background: #ddd; padding: 0.45em 0.6em; margin: 0 0.25em; line-height: 1; border-radius: 0.35em;\">\n",
              "    Designation : Assistant Manager\n",
              "    <span style=\"font-size: 0.8em; font-weight: bold; line-height: 1; border-radius: 0.35em; vertical-align: middle; margin-left: 0.5rem\">DESIGNATION</span>\n",
              "</mark>\n",
              "  \n",
              "<mark class=\"entity\" style=\"background: #ddd; padding: 0.45em 0.6em; margin: 0 0.25em; line-height: 1; border-radius: 0.35em;\">\n",
              "    PAN : AYHPB5362K\n",
              "    <span style=\"font-size: 0.8em; font-weight: bold; line-height: 1; border-radius: 0.35em; vertical-align: middle; margin-left: 0.5rem\">PAN NUMBER</span>\n",
              "</mark>\n",
              "</br> Grade : C I  \n",
              "<mark class=\"entity\" style=\"background: #ddd; padding: 0.45em 0.6em; margin: 0 0.25em; line-height: 1; border-radius: 0.35em;\">\n",
              "    PF No. : MH/1073/107177\n",
              "    <span style=\"font-size: 0.8em; font-weight: bold; line-height: 1; border-radius: 0.35em; vertical-align: middle; margin-left: 0.5rem\">PF NUMBER</span>\n",
              "</mark>\n",
              "</br> DOB : 04 Nov 1986    \n",
              "<mark class=\"entity\" style=\"background: #ddd; padding: 0.45em 0.6em; margin: 0 0.25em; line-height: 1; border-radius: 0.35em;\">\n",
              "    DOJ:03 Nov 2014\n",
              "    <span style=\"font-size: 0.8em; font-weight: bold; line-height: 1; border-radius: 0.35em; vertical-align: middle; margin-left: 0.5rem\">DATE OF JOINING</span>\n",
              "</mark>\n",
              "  \n",
              "<mark class=\"entity\" style=\"background: #ddd; padding: 0.45em 0.6em; margin: 0 0.25em; line-height: 1; border-radius: 0.35em;\">\n",
              "    Payable Days:30.00\n",
              "    <span style=\"font-size: 0.8em; font-weight: bold; line-height: 1; border-radius: 0.35em; vertical-align: middle; margin-left: 0.5rem\">NO OF WORKING DAYS</span>\n",
              "</mark>\n",
              "   LWP:0.00  PF \n",
              "<mark class=\"entity\" style=\"background: #ddd; padding: 0.45em 0.6em; margin: 0 0.25em; line-height: 1; border-radius: 0.35em;\">\n",
              "    UAN. : 100474150677\n",
              "    <span style=\"font-size: 0.8em; font-weight: bold; line-height: 1; border-radius: 0.35em; vertical-align: middle; margin-left: 0.5rem\">UAN NUMBER</span>\n",
              "</mark>\n",
              "</br> ESI No. :</br>           Arrear Day(s) 0.00 \n",
              "<mark class=\"entity\" style=\"background: #ddd; padding: 0.45em 0.6em; margin: 0 0.25em; line-height: 1; border-radius: 0.35em;\">\n",
              "    Pension Number : MH/1073/91322\n",
              "    <span style=\"font-size: 0.8em; font-weight: bold; line-height: 1; border-radius: 0.35em; vertical-align: middle; margin-left: 0.5rem\">PF NUMBER</span>\n",
              "</mark>\n",
              "</br>                       </br>Earnings Deductions</br>Description Rate Monthly Arrear Total Description Amount</br> Basic 11951.00  11951.00  0.00  11951.00  \n",
              "<mark class=\"entity\" style=\"background: #ddd; padding: 0.45em 0.6em; margin: 0 0.25em; line-height: 1; border-radius: 0.35em;\">\n",
              "    PF 1434.00\n",
              "    <span style=\"font-size: 0.8em; font-weight: bold; line-height: 1; border-radius: 0.35em; vertical-align: middle; margin-left: 0.5rem\">DEDUCTION - PF</span>\n",
              "</mark>\n",
              " </br> House Rent Allowance 5976.00  5976.00  0.00  5976.00  \n",
              "<mark class=\"entity\" style=\"background: #ddd; padding: 0.45em 0.6em; margin: 0 0.25em; line-height: 1; border-radius: 0.35em;\">\n",
              "    PROF. TAX 208.00\n",
              "    <span style=\"font-size: 0.8em; font-weight: bold; line-height: 1; border-radius: 0.35em; vertical-align: middle; margin-left: 0.5rem\">DEDUCTION - PF</span>\n",
              "</mark>\n",
              " </br> Basket of \n",
              "<mark class=\"entity\" style=\"background: #ddd; padding: 0.45em 0.6em; margin: 0 0.25em; line-height: 1; border-radius: 0.35em;\">\n",
              "    Allowances 30063.00\n",
              "    <span style=\"font-size: 0.8em; font-weight: bold; line-height: 1; border-radius: 0.35em; vertical-align: middle; margin-left: 0.5rem\">NAME OF THE COMPANY</span>\n",
              "</mark>\n",
              "  30063.00  0.00  30063.00  Canteen_Recovery 150.80 </br>          Lwf_Ded 10.00 </br>          Transportation_Recovery 400.00 </br> GROSS EARNINGS 47990.00  47990.00  0.00  47990.00   GROSS DEDUCTIONS 2202.80</br>\n",
              "<mark class=\"entity\" style=\"background: #ddd; padding: 0.45em 0.6em; margin: 0 0.25em; line-height: 1; border-radius: 0.35em;\">\n",
              "    Net Pay : 45787.00\n",
              "    <span style=\"font-size: 0.8em; font-weight: bold; line-height: 1; border-radius: 0.35em; vertical-align: middle; margin-left: 0.5rem\">SALARY FOR MONTH</span>\n",
              "</mark>\n",
              " (FOURTY FIVE THOUSAND SEVEN HUNDRED EIGHTY SEVEN ONLY)</br> </br>Income Tax Worksheet for the Period April 2019 - March 2020</br>Description Gross Exempt Taxable Deduction Under Chapter VI-A Taxable HRA Calculation(Non-Metro)</br> Basic 143412.00  0.00  143412.00  Investments u/s 80C    \n",
              "<mark class=\"entity\" style=\"background: #ddd; padding: 0.45em 0.6em; margin: 0 0.25em; line-height: 1; border-radius: 0.35em;\">\n",
              "    Rent Paid 0.00\n",
              "    <span style=\"font-size: 0.8em; font-weight: bold; line-height: 1; border-radius: 0.35em; vertical-align: middle; margin-left: 0.5rem\">DATE OF JOINING</span>\n",
              "</mark>\n",
              " </br> House Rent Allowance 71712.00  0.00  71712.00  Housing Loan Repayment 50585.00  From: 01/04/2019  </br> Basket of Allowances 360756.00  0.00  360756.00  LIC DIRECT 21700.00  To: 31/03/2020  </br> Advance Bonus_YTD 3663.00  0.00  3663.00  Mutual Fund 20000.00  1. Actual HRA 71712.00 </br> Advance Bonus QTY 1221.00  0.00  1221.00  \n",
              "<mark class=\"entity\" style=\"background: #ddd; padding: 0.45em 0.6em; margin: 0 0.25em; line-height: 1; border-radius: 0.35em;\">\n",
              "    Provident Fund 17209.00\n",
              "    <span style=\"font-size: 0.8em; font-weight: bold; line-height: 1; border-radius: 0.35em; vertical-align: middle; margin-left: 0.5rem\">DEDUCTION - PF</span>\n",
              "</mark>\n",
              "  2. 40% or 50% of Basic 57365.00 </br>        Tuition Fee 40000.00  3. Rent - 10% Basic 0.00 </br>           Least of above is exempt 0.00 </br>           Taxable HRA 0.00 </br> Gross 580764.00  0.00  580764.00  \n",
              "<mark class=\"entity\" style=\"background: #ddd; padding: 0.45em 0.6em; margin: 0 0.25em; line-height: 1; border-radius: 0.35em;\">\n",
              "    Total Investments u/s 80C 149494.00\n",
              "    <span style=\"font-size: 0.8em; font-weight: bold; line-height: 1; border-radius: 0.35em; vertical-align: middle; margin-left: 0.5rem\">SALARY FOR MONTH</span>\n",
              "</mark>\n",
              "    </br> Tax Working  U/S 80C 149494.00    </br> Standard Deduction 50000.00  80D 32359.00  TDS Deducted Monthly  </br> Previous Employer Taxable Income 0.00  Total \n",
              "<mark class=\"entity\" style=\"background: #ddd; padding: 0.45em 0.6em; margin: 0 0.25em; line-height: 1; border-radius: 0.35em;\">\n",
              "    Ded Under Chapter VI-A181853.00\n",
              "    <span style=\"font-size: 0.8em; font-weight: bold; line-height: 1; border-radius: 0.35em; vertical-align: middle; margin-left: 0.5rem\">DESIGNATION</span>\n",
              "</mark>\n",
              "  Month Amount</br> Previous Employer \n",
              "<mark class=\"entity\" style=\"background: #ddd; padding: 0.45em 0.6em; margin: 0 0.25em; line-height: 1; border-radius: 0.35em;\">\n",
              "    Professional Tax 0.00\n",
              "    <span style=\"font-size: 0.8em; font-weight: bold; line-height: 1; border-radius: 0.35em; vertical-align: middle; margin-left: 0.5rem\">NAME OF THE COMPANY</span>\n",
              "</mark>\n",
              "     April-2019 0.00 </br> \n",
              "<mark class=\"entity\" style=\"background: #ddd; padding: 0.45em 0.6em; margin: 0 0.25em; line-height: 1; border-radius: 0.35em;\">\n",
              "    Professional Tax 2500.00\n",
              "    <span style=\"font-size: 0.8em; font-weight: bold; line-height: 1; border-radius: 0.35em; vertical-align: middle; margin-left: 0.5rem\">NAME OF THE COMPANY</span>\n",
              "</mark>\n",
              "     May-2019 0.00 </br> Under Chapter VI-A 181853.00     June-2019 0.00 </br> Any Other Income -120850.47     Tax Deducted on Perq. 0.00 </br> Taxable Income 225570.00     Total 0.00 </br> Total Tax 0.00       </br>  TSauxrc Rheabrgaete u/s 87a 00..0000              </br> Tax Due 0.00       </br> Health and Education Cess 0.00       </br> \n",
              "<mark class=\"entity\" style=\"background: #ddd; padding: 0.45em 0.6em; margin: 0 0.25em; line-height: 1; border-radius: 0.35em;\">\n",
              "    Net Tax 0.00\n",
              "    <span style=\"font-size: 0.8em; font-weight: bold; line-height: 1; border-radius: 0.35em; vertical-align: middle; margin-left: 0.5rem\">SALARY FOR MONTH</span>\n",
              "</mark>\n",
              "       </br> Tax Deducted (Previous Employer) 0.00       </br>  TTaaxx  DDeedduucctteedd  oonn  \n",
              "<mark class=\"entity\" style=\"background: #ddd; padding: 0.45em 0.6em; margin: 0 0.25em; line-height: 1; border-radius: 0.35em;\">\n",
              "    PAenryq O. ther\n",
              "    <span style=\"font-size: 0.8em; font-weight: bold; line-height: 1; border-radius: 0.35em; vertical-align: middle; margin-left: 0.5rem\">DEDUCTION - PF</span>\n",
              "</mark>\n",
              " Income. 00..0000              </br> Tax Deducted Till Date 0.00       </br> Tax to be Deducted 0.00        </br> Tax per month 0.00       </br> Tax on Non-Recurring Earnings 0.00  Interest Paid on Housing Loan 120850.47 </br> Tax Deduction for this month 0.00  Total Any Other Income  </br> </div></span>"
            ]
          },
          "metadata": {}
        }
      ]
    },
    {
      "cell_type": "code",
      "source": [
        ""
      ],
      "metadata": {
        "id": "PIhTVrlGn22h"
      },
      "execution_count": null,
      "outputs": []
    }
  ]
}